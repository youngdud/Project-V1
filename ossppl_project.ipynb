{
  "nbformat": 4,
  "nbformat_minor": 0,
  "metadata": {
    "colab": {
      "name": "ossppl_project.ipynb",
      "provenance": [],
      "collapsed_sections": [
        "NUD-hySm_uPc"
      ],
      "include_colab_link": true
    },
    "kernelspec": {
      "name": "python3",
      "display_name": "Python 3"
    }
  },
  "cells": [
    {
      "cell_type": "markdown",
      "metadata": {
        "id": "view-in-github",
        "colab_type": "text"
      },
      "source": [
        "<a href=\"https://colab.research.google.com/github/youngdud/Project-V1/blob/master/ossppl_project.ipynb\" target=\"_parent\"><img src=\"https://colab.research.google.com/assets/colab-badge.svg\" alt=\"Open In Colab\"/></a>"
      ]
    },
    {
      "cell_type": "markdown",
      "metadata": {
        "id": "NUD-hySm_uPc"
      },
      "source": [
        "# **Open Source SW and Python Programming Project: Implementation of Subway Navigation**\n",
        "\n",
        "In this project, you will implement a navigation system for Seoul subway stations, especially **step by step**\n",
        "\n",
        "\n"
      ]
    },
    {
      "cell_type": "markdown",
      "metadata": {
        "id": "uUsnepoeAhVl"
      },
      "source": [
        "# 0. Initialization\n",
        "\n",
        "Read subway station information by reading the file **simplified_subway_info.xlsx**\n",
        "*  The excel file contains subway station information of Seoul subway line 1 ~ 4\n",
        "*  When you execute this sourcecode, you MUST upload these files in your Colab runtime environment\n",
        "*   **MUST NOT** change this Initialization code cell"
      ]
    },
    {
      "cell_type": "code",
      "metadata": {
        "id": "qnbOlA6o_mIl"
      },
      "source": [
        "import xlrd\n",
        "\n",
        "# Read data file\n",
        "data = xlrd.open_workbook(\"simplified_subway_info.xlsx\")\n",
        "data = data.sheet_by_name('Sheet1')\n",
        "\n",
        "# Store the loaded book object as a string list in subwayStation variable\n",
        "subwayStation = []\n",
        "for line in range(4) :\n",
        "    cur = [x for x in data.col_values(line) if x]    \n",
        "    subwayStation.append(cur[1:])"
      ],
      "execution_count": 19,
      "outputs": []
    },
    {
      "cell_type": "markdown",
      "metadata": {
        "id": "DBXU61Tn_vKS"
      },
      "source": [
        "# 1. Your implementation\n",
        "Let's start the implementation of a subway naviation system by using the loaded subway station information :)\n",
        "\n",
        "*   You can access the subway station information by referring to **subwayStation** variable (list type)"
      ]
    },
    {
      "cell_type": "code",
      "metadata": {
        "id": "7h-scy6AI8Re",
        "colab": {
          "base_uri": "https://localhost:8080/"
        },
        "outputId": "2baa1a7b-aa12-4dad-f489-0a1a95e0084a"
      },
      "source": [
        "'''\n",
        "This is an example code for showing how to use the loaded data.\n",
        "You can remove this code.\n",
        "'''\n",
        "for i in range(4) :\n",
        "    print(subwayStation[i]) # subwayStation[i] contatins the (i + 1)-th subway line information\n",
        "d = True\n",
        "while d :\n",
        "    for i in range(50) :\n",
        "        print(\"*\", end = \"\")\n",
        "    print(\"\")\n",
        "    print(\"1. Display subway line information (Line 1~4)\")\n",
        "    print(\"2. Display subway station information\")\n",
        "    print(\"3. Exit\")\n",
        "    for i in range(50) :\n",
        "        print(\"*\", end = \"\")\n",
        "    print(\"\")\n",
        "\n",
        "    a = True\n",
        "    while a :\n",
        "        num = int(input(\"Please choose one of the options (1~3): \"))\n",
        "        if num == 1 or num == 2 or num == 3 :\n",
        "            break\n",
        "    \n",
        "    if num == 1:\n",
        "        for i in range(50) :\n",
        "            print(\"*\", end = \"\")\n",
        "        print(\"\")\n",
        "        print(\"Subway line information service\")\n",
        "        for i in range(50) :\n",
        "            print(\"*\", end = \"\")\n",
        "        print(\"\")\n",
        "        b = True\n",
        "        while b :\n",
        "            num1 = int(input(\">> Please enter a subway line number (1 - 4): \"))\n",
        "            if num1 == 1 or num1 == 2 or num1 == 3 or num1 == 4 :\n",
        "                break\n",
        "        print(subwayStation[num1 - 1])\n",
        "\n",
        "    elif num == 2:\n",
        "        for i in range(50) :\n",
        "            print(\"*\", end = \"\")\n",
        "        print(\"\")\n",
        "        print(\"Subway station information service\")\n",
        "        for i in range(50) :\n",
        "            print(\"*\", end = \"\")\n",
        "        print(\"\")\n",
        "        c = True\n",
        "        j = [0,0,0,0]\n",
        "        snum = -1\n",
        "        while c :\n",
        "            station1 = input(\">>Please enter a subway station name: \")\n",
        "            for i in range(4) :\n",
        "                if  station1 in subwayStation[i]:\n",
        "                    snum = snum + 1\n",
        "                    j[snum] = i\n",
        "            if snum >= 0 :\n",
        "              break\n",
        "        if snum == 0 :\n",
        "            print(station1,\" station is in Line\", (j[snum] + 1))\n",
        "        elif snum == 1 :\n",
        "            print(station1,\" station is in Line\", (j[snum - 1]+1),\" and\", (j[snum] + 1))\n",
        "        elif snum == 2 :\n",
        "            print(station1,\" station is in Line\", (j[snum - 2]+1),\" and\", (j[snum - 1] + 1),\" and\", (j[snum] + 1))\n",
        "        elif snum == 3 :\n",
        "            print(station1,\" station is in Line\", (j[snum - 3]+1),\" and\", (j[snum - 2]+1),\" and\", (j[snum - 1] + 1),\" and\", (j[snum] + 1))\n",
        "\n",
        "    elif num == 3:\n",
        "        break\n"
      ],
      "execution_count": 20,
      "outputs": [
        {
          "output_type": "stream",
          "text": [
            "['소요산', '동두천', '보산', '동두천중앙', '지행', '덕정', '덕계', '양주', '녹양', '가능', '의정부', '회룡', '망월사', '도봉산', '도봉', '방학', '창동', '녹천', '월계', '광운대', '석계', '신이문', '외대앞', '회기', '청량리', '제기동', '신설동', '동묘앞', '동대문', '종로5가', '종로3가', '종각', '시청', '서울역', '남영', '용산', '노량진', '대방', '신길', '영등포', '신도림', '구로', '구일', '개봉', '오류동', '온수', '역곡', '소사', '부천', '중동', '송내', '부개', '부평', '백운', '동암', '간석', '주안', '도화', '제물포', '도원', '동인천', '인천']\n",
            "['신도림', '대림', '구로디지털단지', '신대방', '신림', '봉천', '서울대입구', '낙성대', '사당', '방배', '서초', '교대', '강남', '역삼', '선릉', '삼성', '종합운동장', '잠실새내', '잠실', '잠실나루', '강변', '구의', '건대입구', '성수', '뚝섬', '한양대', '왕십리', '상왕십리', '신당', '동대문역사문화공원', '을지로4가', '을지로3가', '을지로입구', '시청', '충정로', '아현', '이대', '신촌', '홍대입구', '합정', '당산', '영등포구청', '문래']\n",
            "['대화', '주엽', '정발산', '마두', '백석', '대곡', '화정', '원당', '원흥', '삼송', '지축', '구파발', '연신내', '불광', '녹번', '홍제', '무악재', '독립문', '경복궁', '안국', '종로3가', '을지로3가', '충무로', '동대입구', '약수', '금호', '옥수', '압구정', '신사', '잠원', '고속터미널', '교대', '남부터미널', '양재', '매봉', '도곡', '대치', '학여울', '대청', '일원', '수서', '가락시장', '경찰병원', '오금']\n",
            "['당고개', '상계', '노원', '창동', '쌍문', '수유', '미아', '미아사거리', '길음', '성신여대입구', '한성대입구', '혜화', '동대문', '동대문역사문화공원', '충무로', '명동', '회현', '서울역', '숙대입구', '삼각지', '신용산', '이촌', '동작', '총신대입구', '사당', '남태령', '선바위', '경마공원', '대공원', '과천', '정부과천청사', '인덕원', '평촌', '범계', '금정', '산본', '수리산', '대야미', '반월', '상록수', '한대앞', '중앙', '고잔', '초지', '안산', '신길온천', '정왕', '오이도']\n",
            "**************************************************\n",
            "1. Display subway line information (Line 1~4)\n",
            "2. Display subway station information\n",
            "3. Exit\n",
            "**************************************************\n",
            "Please choose one of the options (1~3): 7\n",
            "Please choose one of the options (1~3): 3\n"
          ],
          "name": "stdout"
        }
      ]
    }
  ]
}