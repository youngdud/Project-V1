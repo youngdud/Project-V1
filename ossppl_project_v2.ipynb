{
  "nbformat": 4,
  "nbformat_minor": 0,
  "metadata": {
    "colab": {
      "name": "ossppl_project_v2.ipynb",
      "provenance": [],
      "collapsed_sections": [
        "NUD-hySm_uPc"
      ],
      "include_colab_link": true
    },
    "kernelspec": {
      "name": "python3",
      "display_name": "Python 3"
    }
  },
  "cells": [
    {
      "cell_type": "markdown",
      "metadata": {
        "id": "view-in-github",
        "colab_type": "text"
      },
      "source": [
        "<a href=\"https://colab.research.google.com/github/youngdud/Project-V1/blob/master/ossppl_project_v2.ipynb\" target=\"_parent\"><img src=\"https://colab.research.google.com/assets/colab-badge.svg\" alt=\"Open In Colab\"/></a>"
      ]
    },
    {
      "cell_type": "markdown",
      "metadata": {
        "id": "NUD-hySm_uPc"
      },
      "source": [
        "# **Open Source SW and Python Programming Project: Implementation of Subway Navigation**\n",
        "\n",
        "In this project, you will implement a navigation system for Seoul subway stations, especially **step by step**\n",
        "\n",
        "\n"
      ]
    },
    {
      "cell_type": "markdown",
      "metadata": {
        "id": "uUsnepoeAhVl"
      },
      "source": [
        "# 0. Initialization\n",
        "\n",
        "Read subway station information by reading the file **simplified_subway_info.xlsx**\n",
        "*  The excel file contains subway station information of Seoul subway line 1 ~ 4\n",
        "*  When you execute this sourcecode, you MUST upload these files in your Colab runtime environment\n",
        "*   **MUST NOT** change this Initialization code cell"
      ]
    },
    {
      "cell_type": "code",
      "metadata": {
        "id": "qnbOlA6o_mIl"
      },
      "source": [
        "import xlrd\n",
        "\n",
        "# Read data file\n",
        "data = xlrd.open_workbook(\"simplified_subway_info.xlsx\")\n",
        "data = data.sheet_by_name('Sheet1')\n",
        "\n",
        "# Store the loaded book object as a string list in subwayStation variable\n",
        "subwayStation = []\n",
        "for line in range(4) :\n",
        "    cur = [x for x in data.col_values(line) if x]    \n",
        "    subwayStation.append(cur[1:])"
      ],
      "execution_count": 21,
      "outputs": []
    },
    {
      "cell_type": "markdown",
      "metadata": {
        "id": "DBXU61Tn_vKS"
      },
      "source": [
        "# 1. Your implementation\n",
        "Let's start the implementation of a subway naviation system by using the loaded subway station information :)\n",
        "\n",
        "*   You can access the subway station information by referring to **subwayStation** variable (list type)"
      ]
    },
    {
      "cell_type": "code",
      "metadata": {
        "id": "7h-scy6AI8Re",
        "colab": {
          "base_uri": "https://localhost:8080/"
        },
        "outputId": "2d382490-6447-4aff-b4d4-590b53001460"
      },
      "source": [
        "separator = '*****' * 10\n",
        "inputMsg = '>> [INPUT] {}'\n",
        "outputMsg = '>> [OUTPUT] {}'\n",
        "errorMsg = '>> [ERROR] {}'\n",
        "\n",
        "\n",
        "class SubwayLine:\n",
        "    def __init__(self, stations):\n",
        "        self.stations = stations\n",
        "    \n",
        "    def __str__(self):\n",
        "        return str(self.stations)\n",
        "    \n",
        "    def __and__(self, other):\n",
        "        return tuple(set(self.stations) & set(other.stations))\n",
        "\n",
        "    def __contains__(self, station):\n",
        "        if station in self.stations:\n",
        "            return True\n",
        "        else:\n",
        "            return False\n",
        "    \n",
        "    def getPath(self, dpt, dst):\n",
        "      try:\n",
        "        dptIndex = self.stations.index(dpt)\n",
        "        dstIndex = self.stations.index(dst)\n",
        "      except:\n",
        "        return None\n",
        "      else:\n",
        "        path = list(self.stations[min(dptIndex, dstIndex):max(dptIndex, dstIndex) + 1])\n",
        "        if dptIndex > dstIndex:\n",
        "            path.reverse()\n",
        "        return path\n",
        "\n",
        "keys = ['Line1', 'Line2', 'Line3', 'Line4']\n",
        "values = subwayStation\n",
        "subwayStation = {}\n",
        "for line, stations in zip(keys, values):\n",
        "    subwayStation[line] = SubwayLine(stations)\n",
        "\n",
        "\n",
        "def dispSubwayLineInfo():\n",
        "    while True:\n",
        "        try:\n",
        "            line = 'Line' + str(input(inputMsg.format('Please enter a subway line number (1 - 4):')))\n",
        "            print(outputMsg.format(line + ': ' + str(subwayStation[line])))                               \n",
        "        except KeyError:\n",
        "            print(errorMsg.format('Please enter a valid subway line number.'))\n",
        "        else:\n",
        "            return\n",
        "            \n",
        "def getStationAndLines(msg):\n",
        "    while True:\n",
        "        try:\n",
        "          station = input(inputMsg.format(msg))\n",
        "\n",
        "          lines = []\n",
        "          for line in subwayStation:\n",
        "              if station in subwayStation[line]:\n",
        "                  lines.append(line)\n",
        "          \n",
        "          if len(lines) == 0:\n",
        "               raise ValueError\n",
        "        except ValueError: \n",
        "          print(errorMsg.format('Please enter a valid subway station name.'))\n",
        "        else:\n",
        "          return station, lines\n",
        "\n",
        "def dispSubwayStationInfo():\n",
        "    station, lines = getStationAndLines('Please enter a subway station name:')\n",
        "    print(outputMsg.format(station + ' is in ' + str(lines)))\n",
        "\n",
        "def printPath(dpt, dst, line):\n",
        "    path = subwayStation[line].getPath(dpt,dst)\n",
        "    print(outputMsg.format(dpt + ' to ' + dst + ' at ' + line + ': ' + str(path)))\n",
        "\n",
        "def dispPathBetweenStations():\n",
        "    dpt, dptLines = getStationAndLines('Please enter a departure station name:')\n",
        "    dst, dstLines = getStationAndLines('Please enter a destination station name:')\n",
        "\n",
        "    commonLine = tuple(set(dptLines) & set(dstLines))\n",
        "    if len(commonLine) > 0:\n",
        "        printPath(dpt, dst, commonLine[0])\n",
        "        return    \n",
        "\n",
        "    for dptLine in dptLines:\n",
        "        for dstLine in dstLines:\n",
        "            commonStation = subwayStation[dptLine] & subwayStation[dstLine]\n",
        "            if len(commonStation) > 0:\n",
        "                printPath(dpt, commonStation[0], dptLine)\n",
        "                print(outputMsg.format('Transfer from ' + dptLine + ' to ' + dstLine + ' at ' + commonStation[0]))\n",
        "                printPath(commonStation[0], dst, dstLine)\n",
        "                return\n",
        "\n",
        "while True:\n",
        "    print(separator)\n",
        "    print('1. Display subway line information (Line 1 ~ 4)')\n",
        "    print('2. Display subway station information')\n",
        "    print('3. Find a path between two subway stations')\n",
        "    print('4. Exit')\n",
        "    print(separator)\n",
        "    try:\n",
        "        option = int(input(inputMsg.format('Please choose one of the options (1 - 4):')))\n",
        "    except ValueError:\n",
        "        print(errorMsg.format('Please choose a valid option.'))\n",
        "    else:\n",
        "        if option == 1:\n",
        "            print(separator)\n",
        "            print('Subway line information service')\n",
        "            print(separator)\n",
        "            dispSubwayLineInfo()\n",
        "            \n",
        "        elif option == 2:\n",
        "            print(separator)\n",
        "            print('Subway station information service')\n",
        "            print(separator)\n",
        "            dispSubwayStationInfo()\n",
        "\n",
        "        elif option == 3:\n",
        "            print(separator)\n",
        "            print('Subway navigation service')\n",
        "            print(separator)\n",
        "            dispPathBetweenStations()\n",
        "\n",
        "        elif option == 4:\n",
        "            print(separator)\n",
        "            print(outputMsg.format('Bye bye~'))\n",
        "            break\n",
        "\n",
        "        else:\n",
        "            print(errorMsg.format('Please choose a valid option.'))"
      ],
      "execution_count": 22,
      "outputs": [
        {
          "output_type": "stream",
          "text": [
            "**************************************************\n",
            "1. Display subway line information (Line 1 ~ 4)\n",
            "2. Display subway station information\n",
            "3. Find a path between two subway stations\n",
            "4. Exit\n",
            "**************************************************\n",
            ">> [INPUT] Please choose one of the options (1 - 4):2\n",
            "**************************************************\n",
            "Subway station information service\n",
            "**************************************************\n",
            ">> [INPUT] Please enter a subway station name:a\n",
            ">> [ERROR] Please enter a valid subway station name.\n",
            ">> [INPUT] Please enter a subway station name:소요산\n",
            ">> [OUTPUT] 소요산 is in ['Line1']\n",
            "**************************************************\n",
            "1. Display subway line information (Line 1 ~ 4)\n",
            "2. Display subway station information\n",
            "3. Find a path between two subway stations\n",
            "4. Exit\n",
            "**************************************************\n",
            ">> [INPUT] Please choose one of the options (1 - 4):a\n",
            ">> [ERROR] Please choose a valid option.\n",
            "**************************************************\n",
            "1. Display subway line information (Line 1 ~ 4)\n",
            "2. Display subway station information\n",
            "3. Find a path between two subway stations\n",
            "4. Exit\n",
            "**************************************************\n",
            ">> [INPUT] Please choose one of the options (1 - 4):3\n",
            "**************************************************\n",
            "Subway navigation service\n",
            "**************************************************\n",
            ">> [INPUT] Please enter a departure station name:a\n",
            ">> [ERROR] Please enter a valid subway station name.\n",
            ">> [INPUT] Please enter a departure station name:서울역\n",
            ">> [INPUT] Please enter a destination station name:소요산\n",
            ">> [OUTPUT] 서울역 to 소요산 at Line1: ['서울역', '시청', '종각', '종로3가', '종로5가', '동대문', '동묘앞', '신설동', '제기동', '청량리', '회기', '외대앞', '신이문', '석계', '광운대', '월계', '녹천', '창동', '방학', '도봉', '도봉산', '망월사', '회룡', '의정부', '가능', '녹양', '양주', '덕계', '덕정', '지행', '동두천중앙', '보산', '동두천', '소요산']\n",
            "**************************************************\n",
            "1. Display subway line information (Line 1 ~ 4)\n",
            "2. Display subway station information\n",
            "3. Find a path between two subway stations\n",
            "4. Exit\n",
            "**************************************************\n",
            ">> [INPUT] Please choose one of the options (1 - 4):4\n",
            "**************************************************\n",
            ">> [OUTPUT] Bye bye~\n"
          ],
          "name": "stdout"
        }
      ]
    }
  ]
}